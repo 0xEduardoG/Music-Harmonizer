{
 "cells": [
  {
   "cell_type": "markdown",
   "id": "da6064f9-4578-4333-bceb-2247c12d827c",
   "metadata": {},
   "source": [
    "## Preprocessing Audio Data\n",
    "\n",
    "In this Notebook, we're going to preprocess the audio data from the Nsynth dataset. To being able to process it in two different types of models.\n",
    "\n",
    "We're going to create Spectrograms to further apply a Convolusional Neural Network with them, and also extracting the Mel Frequency Cepstrum Coefficients. \n",
    "\n",
    "We created a SoundProcessor class, to be able to extract the waveform, Short Term Fourier Transformation, and then creating and saving the spectrograms into specific folders for further analysis.\n",
    "\n",
    "The class is also able to create DataFrame from the WAV files with the MFCCs from each one of them, resulting in a dataset ready to be inputed in a regular Machine Learning model."
   ]
  },
  {
   "cell_type": "code",
   "execution_count": 1,
   "id": "f1ef0fbb-3db0-4775-89f8-2bde78fe10a2",
   "metadata": {},
   "outputs": [],
   "source": [
    "#Importing necessary packages\n",
    "\n",
    "from functions_classes import SoundProcessor, downsampling_df, split_into_separate_dataframes\n",
    "import pandas as pd\n",
    "import librosa, librosa.display\n",
    "import matplotlib.pyplot as plt\n",
    "import numpy as np\n",
    "import os\n",
    "import seaborn as sns\n",
    "import gc "
   ]
  },
  {
   "cell_type": "code",
   "execution_count": 2,
   "id": "6f8b996c-75d7-408f-af62-10ca32dc2d84",
   "metadata": {},
   "outputs": [],
   "source": [
    "# Creating the Dataframes out of the Json files.\n",
    "\n",
    "#Establishing paths\n",
    "\n",
    "train_path = 'data/train/examples.json'\n",
    "test_path = 'data/test/examples.json'\n",
    "valid_path = 'data/valid/examples.json'\n",
    "\n",
    "# Defining dataframes\n",
    "\n",
    "train_df = pd.read_json(train_path).transpose()\n",
    "test_df = pd.read_json(test_path).transpose()\n",
    "valid_df = pd.read_json(valid_path).transpose()"
   ]
  },
  {
   "cell_type": "code",
   "execution_count": 3,
   "id": "c71db34c-df9e-4787-a8b2-a50edd3ef5c6",
   "metadata": {},
   "outputs": [],
   "source": [
    "#Defining paths to get the audio files\n",
    "\n",
    "train_audio_folder = 'data/train/audio'\n",
    "test_audio_folder = 'data/test/audio'\n",
    "valid_audio_folder = 'data/valid/audio'\n",
    "\n",
    "#Defining paths to store the spectrograms.\n",
    "\n",
    "train_specs_path = 'data/train/spectrograms'\n",
    "test_specs_path = 'data/test/spectrograms'"
   ]
  },
  {
   "cell_type": "code",
   "execution_count": 4,
   "id": "a9b12e24-4330-4208-acd2-3e3cf99aee1c",
   "metadata": {},
   "outputs": [
    {
     "data": {
      "text/html": [
       "<div>\n",
       "<style scoped>\n",
       "    .dataframe tbody tr th:only-of-type {\n",
       "        vertical-align: middle;\n",
       "    }\n",
       "\n",
       "    .dataframe tbody tr th {\n",
       "        vertical-align: top;\n",
       "    }\n",
       "\n",
       "    .dataframe thead th {\n",
       "        text-align: right;\n",
       "    }\n",
       "</style>\n",
       "<table border=\"1\" class=\"dataframe\">\n",
       "  <thead>\n",
       "    <tr style=\"text-align: right;\">\n",
       "      <th></th>\n",
       "      <th>note</th>\n",
       "      <th>sample_rate</th>\n",
       "      <th>pitch</th>\n",
       "      <th>instrument_source</th>\n",
       "      <th>instrument_family_str</th>\n",
       "      <th>instrument_str</th>\n",
       "      <th>note_str</th>\n",
       "      <th>qualities_str</th>\n",
       "      <th>instrument_source_str</th>\n",
       "      <th>velocity</th>\n",
       "      <th>instrument_family</th>\n",
       "      <th>instrument</th>\n",
       "      <th>qualities</th>\n",
       "    </tr>\n",
       "  </thead>\n",
       "  <tbody>\n",
       "    <tr>\n",
       "      <th>guitar_acoustic_001-082-050</th>\n",
       "      <td>16629</td>\n",
       "      <td>16000</td>\n",
       "      <td>82</td>\n",
       "      <td>0</td>\n",
       "      <td>guitar</td>\n",
       "      <td>guitar_acoustic_001</td>\n",
       "      <td>guitar_acoustic_001-082-050</td>\n",
       "      <td>[percussive]</td>\n",
       "      <td>acoustic</td>\n",
       "      <td>50</td>\n",
       "      <td>3</td>\n",
       "      <td>39</td>\n",
       "      <td>[0, 0, 0, 0, 0, 0, 0, 1, 0, 0]</td>\n",
       "    </tr>\n",
       "    <tr>\n",
       "      <th>bass_synthetic_120-108-050</th>\n",
       "      <td>168243</td>\n",
       "      <td>16000</td>\n",
       "      <td>108</td>\n",
       "      <td>2</td>\n",
       "      <td>bass</td>\n",
       "      <td>bass_synthetic_120</td>\n",
       "      <td>bass_synthetic_120-108-050</td>\n",
       "      <td>[percussive]</td>\n",
       "      <td>synthetic</td>\n",
       "      <td>50</td>\n",
       "      <td>0</td>\n",
       "      <td>881</td>\n",
       "      <td>[0, 0, 0, 0, 0, 0, 0, 1, 0, 0]</td>\n",
       "    </tr>\n",
       "    <tr>\n",
       "      <th>organ_electronic_120-050-127</th>\n",
       "      <td>88495</td>\n",
       "      <td>16000</td>\n",
       "      <td>50</td>\n",
       "      <td>1</td>\n",
       "      <td>organ</td>\n",
       "      <td>organ_electronic_120</td>\n",
       "      <td>organ_electronic_120-050-127</td>\n",
       "      <td>[]</td>\n",
       "      <td>electronic</td>\n",
       "      <td>127</td>\n",
       "      <td>6</td>\n",
       "      <td>979</td>\n",
       "      <td>[0, 0, 0, 0, 0, 0, 0, 0, 0, 0]</td>\n",
       "    </tr>\n",
       "    <tr>\n",
       "      <th>guitar_electronic_021-026-025</th>\n",
       "      <td>146382</td>\n",
       "      <td>16000</td>\n",
       "      <td>26</td>\n",
       "      <td>1</td>\n",
       "      <td>guitar</td>\n",
       "      <td>guitar_electronic_021</td>\n",
       "      <td>guitar_electronic_021-026-025</td>\n",
       "      <td>[fast_decay, percussive]</td>\n",
       "      <td>electronic</td>\n",
       "      <td>25</td>\n",
       "      <td>3</td>\n",
       "      <td>346</td>\n",
       "      <td>[0, 0, 0, 1, 0, 0, 0, 1, 0, 0]</td>\n",
       "    </tr>\n",
       "    <tr>\n",
       "      <th>organ_electronic_011-079-075</th>\n",
       "      <td>244275</td>\n",
       "      <td>16000</td>\n",
       "      <td>79</td>\n",
       "      <td>1</td>\n",
       "      <td>organ</td>\n",
       "      <td>organ_electronic_011</td>\n",
       "      <td>organ_electronic_011-079-075</td>\n",
       "      <td>[bright]</td>\n",
       "      <td>electronic</td>\n",
       "      <td>75</td>\n",
       "      <td>6</td>\n",
       "      <td>188</td>\n",
       "      <td>[1, 0, 0, 0, 0, 0, 0, 0, 0, 0]</td>\n",
       "    </tr>\n",
       "  </tbody>\n",
       "</table>\n",
       "</div>"
      ],
      "text/plain": [
       "                                 note sample_rate pitch instrument_source  \\\n",
       "guitar_acoustic_001-082-050     16629       16000    82                 0   \n",
       "bass_synthetic_120-108-050     168243       16000   108                 2   \n",
       "organ_electronic_120-050-127    88495       16000    50                 1   \n",
       "guitar_electronic_021-026-025  146382       16000    26                 1   \n",
       "organ_electronic_011-079-075   244275       16000    79                 1   \n",
       "\n",
       "                              instrument_family_str         instrument_str  \\\n",
       "guitar_acoustic_001-082-050                  guitar    guitar_acoustic_001   \n",
       "bass_synthetic_120-108-050                     bass     bass_synthetic_120   \n",
       "organ_electronic_120-050-127                  organ   organ_electronic_120   \n",
       "guitar_electronic_021-026-025                guitar  guitar_electronic_021   \n",
       "organ_electronic_011-079-075                  organ   organ_electronic_011   \n",
       "\n",
       "                                                    note_str  \\\n",
       "guitar_acoustic_001-082-050      guitar_acoustic_001-082-050   \n",
       "bass_synthetic_120-108-050        bass_synthetic_120-108-050   \n",
       "organ_electronic_120-050-127    organ_electronic_120-050-127   \n",
       "guitar_electronic_021-026-025  guitar_electronic_021-026-025   \n",
       "organ_electronic_011-079-075    organ_electronic_011-079-075   \n",
       "\n",
       "                                          qualities_str instrument_source_str  \\\n",
       "guitar_acoustic_001-082-050                [percussive]              acoustic   \n",
       "bass_synthetic_120-108-050                 [percussive]             synthetic   \n",
       "organ_electronic_120-050-127                         []            electronic   \n",
       "guitar_electronic_021-026-025  [fast_decay, percussive]            electronic   \n",
       "organ_electronic_011-079-075                   [bright]            electronic   \n",
       "\n",
       "                              velocity instrument_family instrument  \\\n",
       "guitar_acoustic_001-082-050         50                 3         39   \n",
       "bass_synthetic_120-108-050          50                 0        881   \n",
       "organ_electronic_120-050-127       127                 6        979   \n",
       "guitar_electronic_021-026-025       25                 3        346   \n",
       "organ_electronic_011-079-075        75                 6        188   \n",
       "\n",
       "                                                    qualities  \n",
       "guitar_acoustic_001-082-050    [0, 0, 0, 0, 0, 0, 0, 1, 0, 0]  \n",
       "bass_synthetic_120-108-050     [0, 0, 0, 0, 0, 0, 0, 1, 0, 0]  \n",
       "organ_electronic_120-050-127   [0, 0, 0, 0, 0, 0, 0, 0, 0, 0]  \n",
       "guitar_electronic_021-026-025  [0, 0, 0, 1, 0, 0, 0, 1, 0, 0]  \n",
       "organ_electronic_011-079-075   [1, 0, 0, 0, 0, 0, 0, 0, 0, 0]  "
      ]
     },
     "execution_count": 4,
     "metadata": {},
     "output_type": "execute_result"
    }
   ],
   "source": [
    "train_df.head()"
   ]
  },
  {
   "cell_type": "code",
   "execution_count": 5,
   "id": "7703dc9c-485a-4230-9ea4-f870c54faea4",
   "metadata": {},
   "outputs": [
    {
     "data": {
      "text/plain": [
       "Index(['note', 'sample_rate', 'pitch', 'instrument_source',\n",
       "       'instrument_family_str', 'instrument_str', 'note_str', 'qualities_str',\n",
       "       'instrument_source_str', 'velocity', 'instrument_family', 'instrument',\n",
       "       'qualities'],\n",
       "      dtype='object')"
      ]
     },
     "execution_count": 5,
     "metadata": {},
     "output_type": "execute_result"
    }
   ],
   "source": [
    "train_df.columns"
   ]
  },
  {
   "cell_type": "code",
   "execution_count": 6,
   "id": "b6a2cd02-67ef-4086-8022-0c311bb1da6a",
   "metadata": {},
   "outputs": [
    {
     "data": {
      "text/plain": [
       "bass          0.226393\n",
       "keyboard      0.179184\n",
       "organ         0.119213\n",
       "mallet        0.118259\n",
       "guitar        0.113034\n",
       "string        0.067336\n",
       "reed          0.048101\n",
       "brass         0.043827\n",
       "vocal         0.035297\n",
       "flute         0.030335\n",
       "synth_lead    0.019021\n",
       "Name: instrument_family_str, dtype: float64"
      ]
     },
     "execution_count": 6,
     "metadata": {},
     "output_type": "execute_result"
    }
   ],
   "source": [
    "train_df['instrument_family_str'].value_counts(normalize=True)"
   ]
  },
  {
   "cell_type": "code",
   "execution_count": 7,
   "id": "d7afe052-3248-4b4e-b33e-33d4530352ab",
   "metadata": {},
   "outputs": [
    {
     "data": {
      "image/png": "[encoded data removed]",
      "text/plain": [
       "<Figure size 640x480 with 1 Axes>"
      ]
     },
     "metadata": {},
     "output_type": "display_data"
    }
   ],
   "source": [
    "plt.bar(train_df['instrument_family_str'].value_counts().index, train_df['instrument_family_str'].value_counts(normalize=True))\n",
    "plt.xlabel('Instrument Family')\n",
    "plt.ylabel('Frequency')\n",
    "plt.title('Instrument Family Distribution')\n",
    "plt.xticks(rotation=80);"
   ]
  },
  {
   "cell_type": "markdown",
   "id": "9cbf6902-0130-41ae-a6aa-ed3100db52bf",
   "metadata": {},
   "source": [
    "We can see that the dataset is very unbalanced. Therefore we created a downsampling function to make it more suitable for our models. We decided to have it closer to a balanced data."
   ]
  },
  {
   "cell_type": "code",
   "execution_count": 9,
   "id": "dff8dde3-b0ee-421c-8485-4febec998bf1",
   "metadata": {},
   "outputs": [
    {
     "data": {
      "text/plain": [
       "guitar        0.092714\n",
       "bass          0.092714\n",
       "organ         0.092714\n",
       "keyboard      0.092714\n",
       "vocal         0.092714\n",
       "string        0.092714\n",
       "reed          0.092714\n",
       "flute         0.092714\n",
       "mallet        0.092714\n",
       "brass         0.092714\n",
       "synth_lead    0.072860\n",
       "Name: instrument_family_str, dtype: float64"
      ]
     },
     "execution_count": 9,
     "metadata": {},
     "output_type": "execute_result"
    }
   ],
   "source": [
    "#Downsampling the Train data\n",
    "train_df_downsampled = downsampling_df(train_df,7000,train_df['instrument_family_str'].unique(),'instrument_family_str')\n",
    "\n",
    "# Shuffling the resulting downsampled dataset\n",
    "train_df_d = train_df_downsampled.sample(frac=1, random_state=42)\n",
    "train_df_downsampled['instrument_family_str'].value_counts(normalize=True)\n"
   ]
  },
  {
   "cell_type": "code",
   "execution_count": 11,
   "id": "70586a85-c627-4116-83b3-933c5a086bbd",
   "metadata": {},
   "outputs": [
    {
     "data": {
      "image/png": "[encoded data removed]",
      "text/plain": [
       "<Figure size 640x480 with 1 Axes>"
      ]
     },
     "metadata": {},
     "output_type": "display_data"
    }
   ],
   "source": [
    "plt.bar(train_df_downsampled['instrument_family_str'].value_counts().index, train_df_downsampled['instrument_family_str'].value_counts(normalize=True))\n",
    "plt.xlabel('Instrument Family')\n",
    "plt.ylabel('Frequency')\n",
    "plt.title('Instrument Family Distribution (Resampled)')\n",
    "plt.xticks(rotation=80);"
   ]
  },
  {
   "cell_type": "markdown",
   "id": "d98214e9-6ff1-48b6-861f-dd04f8753964",
   "metadata": {},
   "source": [
    "Now, we have a balanced dataset. This is the one we'll input in our class to extract the necessary information."
   ]
  },
  {
   "cell_type": "code",
   "execution_count": 21,
   "id": "78477b86-7bdc-4959-bcf3-fc955183f689",
   "metadata": {},
   "outputs": [],
   "source": [
    "#Extracting the MFCCs data frames and converting them into CSVs for further analysis.\n",
    "\n",
    "train_sound = SoundProcessor(train_df_d, train_audio_folder, 'instrument_family')\n",
    "train_mfcc = train_sound.mfcc()\n",
    "train_mfcc.to_csv('train_mfcc.csv', index=False)\n",
    "\n",
    "\n",
    "valid_sound = SoundProcessor(valid_df, valid_audio_folder,'instrument_family')\n",
    "valid_mfcc = valid_sound.mfcc()\n",
    "valid_mfcc.to_csv('valid_mfcc.csv', index=False)\n",
    "\n",
    "\n",
    "test_sound = SoundProcessor(test_df, test_audio_folder,'instrument_family')\n",
    "test_mfcc = test_sound.mfcc()\n",
    "test_mfcc.to_csv('test_mfcc.csv', index=False)"
   ]
  },
  {
   "cell_type": "markdown",
   "id": "b8fb1446-a764-4fca-bdd7-e3bba28065a1",
   "metadata": {},
   "source": [
    "## The problem with the big dataset\n",
    "\n",
    "With This dataset, we tried to input it in the Class and it crashed the notebook every single time we tried. So after many iterations I created a function to split the dataframes into chunks that'll be processed individually for the Class.\n",
    "\n",
    "I set up a chunk size of 2000 rows to be able to go through each one of them individually."
   ]
  },
  {
   "cell_type": "code",
   "execution_count": 14,
   "id": "182977c1-4608-4354-944a-d990a2a309ba",
   "metadata": {},
   "outputs": [
    {
     "name": "stdout",
     "output_type": "stream",
     "text": [
      "Created variables: ['train_df_1', 'train_df_2', 'train_df_3', 'train_df_4', 'train_df_5', 'train_df_6', 'train_df_7', 'train_df_8', 'train_df_9', 'train_df_10', 'train_df_11', 'train_df_12', 'train_df_13', 'train_df_14', 'train_df_15', 'train_df_16', 'train_df_17', 'train_df_18', 'train_df_19', 'train_df_20', 'train_df_21', 'train_df_22', 'train_df_23', 'train_df_24', 'train_df_25', 'train_df_26', 'train_df_27', 'train_df_28', 'train_df_29', 'train_df_30', 'train_df_31', 'train_df_32', 'train_df_33', 'train_df_34', 'train_df_35', 'train_df_36', 'train_df_37', 'train_df_38']\n"
     ]
    },
    {
     "data": {
      "text/plain": [
       "['train_df_1',\n",
       " 'train_df_2',\n",
       " 'train_df_3',\n",
       " 'train_df_4',\n",
       " 'train_df_5',\n",
       " 'train_df_6',\n",
       " 'train_df_7',\n",
       " 'train_df_8',\n",
       " 'train_df_9',\n",
       " 'train_df_10',\n",
       " 'train_df_11',\n",
       " 'train_df_12',\n",
       " 'train_df_13',\n",
       " 'train_df_14',\n",
       " 'train_df_15',\n",
       " 'train_df_16',\n",
       " 'train_df_17',\n",
       " 'train_df_18',\n",
       " 'train_df_19',\n",
       " 'train_df_20',\n",
       " 'train_df_21',\n",
       " 'train_df_22',\n",
       " 'train_df_23',\n",
       " 'train_df_24',\n",
       " 'train_df_25',\n",
       " 'train_df_26',\n",
       " 'train_df_27',\n",
       " 'train_df_28',\n",
       " 'train_df_29',\n",
       " 'train_df_30',\n",
       " 'train_df_31',\n",
       " 'train_df_32',\n",
       " 'train_df_33',\n",
       " 'train_df_34',\n",
       " 'train_df_35',\n",
       " 'train_df_36',\n",
       " 'train_df_37',\n",
       " 'train_df_38']"
      ]
     },
     "execution_count": 14,
     "metadata": {},
     "output_type": "execute_result"
    }
   ],
   "source": [
    "split_into_separate_dataframes(train_df_d, 2000)"
   ]
  },
  {
   "cell_type": "code",
   "execution_count": null,
   "id": "14d9d9b7-50a2-47bb-afbd-6a5858ecea1f",
   "metadata": {},
   "outputs": [],
   "source": [
    "# Looping through the different chunks of the training data and processing it.\n",
    "for train_chunk in variable_names:\n",
    "    train_sound = SoundProcessor(train_chunk, train_audio_folder, 'instrument_family')\n",
    "    train_sound.process_and_save_spectrograms(train_specs_path)"
   ]
  },
  {
   "cell_type": "code",
   "execution_count": 59,
   "id": "c2afb88f-7336-46c0-9371-ae1e2e95bc7d",
   "metadata": {},
   "outputs": [
    {
     "data": {
      "text/plain": [
       "<Figure size 640x480 with 0 Axes>"
      ]
     },
     "metadata": {},
     "output_type": "display_data"
    }
   ],
   "source": [
    "# Creating spectrograms for the test data\n",
    "test_sound = SoundProcessor(test_df, test_audio_folder,'instrument_family')\n",
    "test_sound.process_and_save_spectrograms(test_specs_path)"
   ]
  },
  {
   "cell_type": "code",
   "execution_count": 60,
   "id": "e3413f7e-e0db-4e0c-b4c8-3d4e7191625e",
   "metadata": {},
   "outputs": [
    {
     "data": {
      "text/plain": [
       "<Figure size 640x480 with 0 Axes>"
      ]
     },
     "metadata": {},
     "output_type": "display_data"
    }
   ],
   "source": [
    "#Creating Spectrograms for the validation data\n",
    "# In this case we're sending the spectrograms to the same folder as the training data.\n",
    "# We'll split it later in the neural network process, to avoid label issues moving forward\n",
    "\n",
    "valid_sound = SoundProcessor(valid_df, valid_audio_folder,'instrument_family')\n",
    "valid_sound.process_and_save_spectrograms(train_specs_path)"
   ]
  }
 ],
 "metadata": {
  "kernelspec": {
   "display_name": "new_env",
   "language": "python",
   "name": "new_env"
  },
  "language_info": {
   "codemirror_mode": {
    "name": "ipython",
    "version": 3
   },
   "file_extension": ".py",
   "mimetype": "text/x-python",
   "name": "python",
   "nbconvert_exporter": "python",
   "pygments_lexer": "ipython3",
   "version": "3.9.18"
  }
 },
 "nbformat": 4,
 "nbformat_minor": 5
}
